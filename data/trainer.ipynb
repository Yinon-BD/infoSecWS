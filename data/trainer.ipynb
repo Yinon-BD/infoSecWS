{
 "cells": [
  {
   "cell_type": "code",
   "execution_count": null,
   "metadata": {},
   "outputs": [],
   "source": [
    "pip install numpy pandas re scikit-learn"
   ]
  },
  {
   "cell_type": "code",
   "execution_count": 3,
   "metadata": {},
   "outputs": [
    {
     "ename": "ModuleNotFoundError",
     "evalue": "No module named 'pandas'",
     "output_type": "error",
     "traceback": [
      "\u001b[1;31m---------------------------------------------------------------------------\u001b[0m",
      "\u001b[1;31mModuleNotFoundError\u001b[0m                       Traceback (most recent call last)",
      "\u001b[1;32m~\\AppData\\Local\\Temp\\ipykernel_52940\\770501251.py\u001b[0m in \u001b[0;36m<module>\u001b[1;34m\u001b[0m\n\u001b[0;32m      1\u001b[0m \u001b[1;32mimport\u001b[0m \u001b[0mnumpy\u001b[0m \u001b[1;32mas\u001b[0m \u001b[0mnp\u001b[0m\u001b[1;33m\u001b[0m\u001b[1;33m\u001b[0m\u001b[0m\n\u001b[1;32m----> 2\u001b[1;33m \u001b[1;32mimport\u001b[0m \u001b[0mpandas\u001b[0m \u001b[1;32mas\u001b[0m \u001b[0mpd\u001b[0m\u001b[1;33m\u001b[0m\u001b[1;33m\u001b[0m\u001b[0m\n\u001b[0m\u001b[0;32m      3\u001b[0m \u001b[1;32mimport\u001b[0m \u001b[0mre\u001b[0m\u001b[1;33m\u001b[0m\u001b[1;33m\u001b[0m\u001b[0m\n\u001b[0;32m      4\u001b[0m \u001b[1;32mfrom\u001b[0m \u001b[0msklearn\u001b[0m\u001b[1;33m.\u001b[0m\u001b[0msvm\u001b[0m \u001b[1;32mimport\u001b[0m \u001b[0mSVC\u001b[0m\u001b[1;33m\u001b[0m\u001b[1;33m\u001b[0m\u001b[0m\n\u001b[0;32m      5\u001b[0m \u001b[1;32mfrom\u001b[0m \u001b[0msklearn\u001b[0m\u001b[1;33m.\u001b[0m\u001b[0mmodel_selection\u001b[0m \u001b[1;32mimport\u001b[0m \u001b[0mtrain_test_split\u001b[0m\u001b[1;33m\u001b[0m\u001b[1;33m\u001b[0m\u001b[0m\n",
      "\u001b[1;31mModuleNotFoundError\u001b[0m: No module named 'pandas'"
     ]
    }
   ],
   "source": [
    "import numpy as np\n",
    "import pandas as pd\n",
    "import re\n",
    "from sklearn.svm import SVC\n",
    "from sklearn.model_selection import train_test_split\n",
    "from sklearn.metrics import confusion_matrix, classification_report, accuracy_score"
   ]
  },
  {
   "cell_type": "code",
   "execution_count": null,
   "metadata": {},
   "outputs": [],
   "source": [
    "# in this file, we will implement a model to distinguish between C code and Plain text.\n",
    "# we will use the SVC model to classify the code snippets.\n",
    "# In the training data, we have 2 classes: 0 for Plain text and 1 for C code.\n",
    "# To train the data we will extract the features from the code snippets.\n",
    "# The features we will use are:\n",
    "# 1. Number of lines (will be used to calculate other features)\n",
    "# 2. Average line length\n",
    "# 3. Number of semicolons\n",
    "# 4. Number of special characters, such as {}, (), [], #, /, \\, +, -, *, %, =\n",
    "# 5. Number of keywords such as if, else, for, while, do, break, continue, default, return, int, char, float\n",
    "# 6. Number of comments i.e. lines starting with // or containing /* or */\n",
    "# 7. Ratio of numeric values to the number of words\n",
    "\n",
    "import numpy as np\n",
    "import pandas as pd\n",
    "import re\n",
    "from sklearn.svm import SVC\n",
    "from sklearn.model_selection import train_test_split\n",
    "from sklearn.metrics import confusion_matrix, classification_report, accuracy_score\n",
    "\n",
    "\n",
    "def extract_features(data: list) -> list:\n",
    "    features = []\n",
    "    for snippet in data:\n",
    "        lines = snippet.split('\\n')\n",
    "        num_lines = len(lines)\n",
    "        avg_line_length = sum([len(line) for line in lines]) / num_lines\n",
    "        num_semicolons = sum([line.count(';') for line in lines])\n",
    "        num_special_chars = sum([len(re.findall(r'[{}()\\[\\]#\\\\+*/%=]', line)) for line in lines])\n",
    "        num_keywords = sum([len(re.findall(r'\\b(if|else|for|while|do|break|continue|default|return|int|char|float|void)\\b', line)) for line in lines])\n",
    "        num_comments = sum([1 for line in lines if line.startswith('//') or '/*' in line or '*/' in line])\n",
    "        num_numeric_values = sum([len(re.findall(r'\\b\\d+\\b', line)) for line in lines])\n",
    "        num_words = sum([len(re.findall(r'\\b\\w+\\b', line)) for line in lines])\n",
    "        ratio_numeric_words = num_numeric_values / num_words if num_words > 0 else 0\n",
    "        features.append([num_lines, avg_line_length, num_semicolons, num_special_chars, num_keywords, num_comments, ratio_numeric_words])\n",
    "    return features\n",
    "\n",
    "# Function that will read the data from the file and return the data in the form of a list\n",
    "def read_data(file_path: str, delimiter: str) -> list:\n",
    "    with open(file_path, 'r', errors='ignore') as file:\n",
    "        data = file.read().split(delimiter)\n",
    "    return data\n",
    "\n",
    "if __name__ == '__main__':\n",
    "    # Read the data from the files\n",
    "    c_data = read_data('combined_code.txt', delimiter='THISISENDOFCODE')\n",
    "    text_data = read_data('aggregated_text.txt', delimiter='THISISENDOFENTRY')\n",
    "\n",
    "    # Create labels for the data\n",
    "    c_labels = [1] * len(c_data)\n",
    "    text_labels = [0] * len(text_data)\n",
    "\n",
    "    # Combine the data and labels\n",
    "    data = c_data + text_data\n",
    "    labels = c_labels + text_labels\n",
    "    print(f\"Total number of snippets: {len(data)}\")\n",
    "    print(\"generating features...\")\n",
    "    features = np.array(extract_features(data))\n",
    "    "
   ]
  },
  {
   "cell_type": "code",
   "execution_count": null,
   "metadata": {},
   "outputs": [],
   "source": [
    "#write to features.txt file all the features vectors and the label one each line\n",
    "    with open('features.txt', 'w') as file:\n",
    "        for i in range(len(features)):\n",
    "            file.write(f\"{features[i][0]} {features[i][1]} {features[i][2]} {features[i][3]} {features[i][4]} {features[i][5]} {features[i][6]} {labels[i]}\\n\")"
   ]
  },
  {
   "cell_type": "code",
   "execution_count": null,
   "metadata": {},
   "outputs": [],
   "source": [
    "x_train, x_test, y_train, y_test = train_test_split(features, labels, test_size=0.2, stratify=labels)\n",
    "\n",
    "    model = SVC(class_weight='balanced', random_state=42)\n",
    "    # x_combined = np.vstack((x_train, x_test))\n",
    "    # y_combined = np.concatenate((y_train, y_test))\n",
    "    print(\"Training the model...\")\n",
    "    model.fit(x_train, y_train)\n",
    "\n",
    "    print(\"Model trained successfully.\")\n",
    "    # Evaluate the model\n",
    "    y_pred = model.predict(x_test)\n",
    "\n",
    "    conf_matrix = confusion_matrix(y_test, y_pred)\n",
    "    print(\"Confusion Matrix:\")\n",
    "    print(conf_matrix)\n",
    "\n",
    "    print(\"\\nClassification Report:\")\n",
    "    print(classification_report(y_test, y_pred))\n",
    "\n",
    "    print(f\"Accuracy: {accuracy_score(y_test, y_pred)}\")\n",
    "\n",
    "\n",
    "    # Save the model\n",
    "    # import joblib\n",
    "    # joblib.dump(model, 'code_classifier_model_no_numlines.pkl')"
   ]
  }
 ],
 "metadata": {
  "kernelspec": {
   "display_name": "nlp-hw1",
   "language": "python",
   "name": "python3"
  },
  "language_info": {
   "codemirror_mode": {
    "name": "ipython",
    "version": 3
   },
   "file_extension": ".py",
   "mimetype": "text/x-python",
   "name": "python",
   "nbconvert_exporter": "python",
   "pygments_lexer": "ipython3",
   "version": "3.7.12"
  }
 },
 "nbformat": 4,
 "nbformat_minor": 2
}
